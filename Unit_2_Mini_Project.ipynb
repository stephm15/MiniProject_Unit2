{
  "nbformat": 4,
  "nbformat_minor": 0,
  "metadata": {
    "colab": {
      "name": "Unit 2: Mini Project",
      "provenance": [],
      "authorship_tag": "ABX9TyP1X7aeEJ8lUY2v2sxEztM4",
      "include_colab_link": true
    },
    "kernelspec": {
      "name": "python3",
      "display_name": "Python 3"
    }
  },
  "cells": [
    {
      "cell_type": "markdown",
      "metadata": {
        "id": "view-in-github",
        "colab_type": "text"
      },
      "source": [
        "<a href=\"https://colab.research.google.com/github/stephm15/MiniProject_Unit2/blob/main/Unit_2_Mini_Project.ipynb\" target=\"_parent\"><img src=\"https://colab.research.google.com/assets/colab-badge.svg\" alt=\"Open In Colab\"/></a>"
      ]
    },
    {
      "cell_type": "code",
      "metadata": {
        "colab": {
          "base_uri": "https://localhost:8080/"
        },
        "id": "q7F0H55Os6iV",
        "outputId": "7ed0a622-394c-4549-d5af-3c0a009098d5"
      },
      "source": [
        "#Python Project – Odd or Even: Ask the user for a number. Depending on whether the number is even or odd, print out an appropriate message to the user. Hint: how does an even / odd number react differently when divided by 2?\r\n",
        "#Extras: #1.\tIf the number is a multiple of 4, print out a different message. #2.\tAsk the user for two numbers: one number to check (call it num) and one number to divide by (check). If check divides evenly into num, tell that to the user. If not, print a different appropriate message.\r\n",
        "\r\n",
        "number = int(input(\"Enter a number: \"))\r\n",
        "if (number % 2) == 0:\r\n",
        "  print(\"This number is even\")\r\n",
        "else:\r\n",
        "  print(\"This number is odd\")\r\n"
      ],
      "execution_count": 56,
      "outputs": [
        {
          "output_type": "stream",
          "text": [
            "Enter a number: 15\n",
            "This number is odd\n"
          ],
          "name": "stdout"
        }
      ]
    },
    {
      "cell_type": "code",
      "metadata": {
        "colab": {
          "base_uri": "https://localhost:8080/"
        },
        "id": "J52y2iSK4uDc",
        "outputId": "d8058cc1-e494-4815-e652-ac98df7ad6bf"
      },
      "source": [
        "#Extra:#1.\r\n",
        "number = int(input(\"Enter a number: \"))\r\n",
        "if (number % 2) == 0:\r\n",
        "  print(\"This number is even\")\r\n",
        "else:\r\n",
        "  print(\"This number is odd\")\r\n",
        "if number > 10: \r\n",
        "  print(\"This number is larger than 10\")\r\n",
        "\r\n",
        "#Extra:#2.\r\n",
        "num = int(input(\"Enter a number: \"))\r\n",
        "check = int(input(\"Enter a number: \"))\r\n",
        "if (num % check) == 0:\r\n",
        "  print (\"This number divides evenly into check\")\r\n",
        "else:\r\n",
        "  print(\"Not evenly divisible.\")"
      ],
      "execution_count": 57,
      "outputs": [
        {
          "output_type": "stream",
          "text": [
            "Enter a number: 12\n",
            "This number is even\n",
            "This number is larger than 10\n",
            "Enter a number: 16\n",
            "Enter a number: 4\n",
            "This number divides evenly into check\n"
          ],
          "name": "stdout"
        }
      ]
    },
    {
      "cell_type": "code",
      "metadata": {
        "id": "FGZN34CB9jFj"
      },
      "source": [
        "#Make a two-player Rock-Paper-Scissors game. (Hint: Ask for player plays (using input), compare them, print out a message of congratulations to the winner, and ask if the players want to start a new game)\r\n",
        "#Remember the rules: Rock beats scissors, Scissors beats paper, Paper beats rock\r\n",
        "\r\n",
        "player1 = input(\"Enter your play: \")\r\n",
        "player2 = input(\"Enter your play: \")\r\n",
        "\r\n",
        "p1choice = {'rock', 'paper', 'scissors'}\r\n",
        "p2choice = {'rock', 'paper', 'scissors'}\r\n",
        "\r\n",
        "if p1choice = p2choice:\r\n",
        "  print('Please try again players')\r\n",
        "if p1choice = 'rock', p2choice = 'paper':\r\n",
        "  print('Player 1 wins')\r\n",
        "\r\n"
      ],
      "execution_count": null,
      "outputs": []
    }
  ]
}